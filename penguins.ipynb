{
 "cells": [
  {
   "cell_type": "code",
   "execution_count": 116,
   "id": "44bcaf0b",
   "metadata": {},
   "outputs": [],
   "source": [
    "# Imports\n",
    "import joblib\n",
    "import pandas as pd\n",
    "from sklearn import tree\n",
    "from sklearn.metrics import accuracy_score\n",
    "from sklearn.tree import DecisionTreeClassifier\n",
    "from sklearn.model_selection import train_test_split\n",
    "\n",
    "# Load Data\n",
    "penguins = pd.read_csv(\"data/penguins.csv\")\n",
    "\n",
    "# Process Data - create input & output sets.\n",
    "penguins['Sex'] = penguins['Sex'].map({'MALE': 1, 'FEMALE': 0})\n",
    "penguins = penguins.drop(columns=['studyName','Sample Number','Region','Island','Individual ID','Stage','Date Egg','Comments','Clutch Completion','Delta 15 N (o/oo)','Delta 13 C (o/oo)', 'Flipper Length (mm)','Body Mass (g)']) # Get rid of columns not used for training/testing.\n",
    "penguins = penguins.dropna() # Get rid of rows w/ NaN\n",
    "\n",
    "X = penguins.drop(columns=['Species']) # input\n",
    "y = penguins['Species'] # output\n",
    "X_train, X_test, y_train, y_test = train_test_split(X, y, test_size = .2) # Use 20% of data for testing."
   ]
  },
  {
   "cell_type": "code",
   "execution_count": 112,
   "id": "6dcded1b",
   "metadata": {
    "scrolled": true
   },
   "outputs": [
    {
     "data": {
      "text/plain": [
       "0.9701492537313433"
      ]
     },
     "execution_count": 112,
     "metadata": {},
     "output_type": "execute_result"
    }
   ],
   "source": [
    "# Build a model.\n",
    "model = DecisionTreeClassifier()\n",
    "\n",
    "# Train the model.\n",
    "model.fit(X_train, y_train)\n",
    "\n",
    "# Test model accuracy.\n",
    "prediction = model.predict(X_test)\n",
    "accuracy = accuracy_score(y_test, prediction)\n",
    "accuracy"
   ]
  },
  {
   "cell_type": "code",
   "execution_count": 117,
   "id": "04437cc4",
   "metadata": {},
   "outputs": [
    {
     "data": {
      "text/plain": [
       "['penguin-species-identifier.joblib']"
      ]
     },
     "execution_count": 117,
     "metadata": {},
     "output_type": "execute_result"
    }
   ],
   "source": [
    "# Save model.\n",
    "joblib.dump(model, 'penguin-species-identifier.joblib')"
   ]
  },
  {
   "cell_type": "code",
   "execution_count": 118,
   "id": "347f551c",
   "metadata": {},
   "outputs": [
    {
     "data": {
      "text/plain": [
       "array(['Gentoo penguin (Pygoscelis papua)'], dtype=object)"
      ]
     },
     "execution_count": 118,
     "metadata": {},
     "output_type": "execute_result"
    }
   ],
   "source": [
    "# Use model.\n",
    "model = joblib.load('penguin-species-identifier.joblib')\n",
    "prediction = model.predict([[15, 11, 1]]) # Enter Culmen Length, Culmen Depth and Sex.\n",
    "prediction"
   ]
  },
  {
   "cell_type": "code",
   "execution_count": 120,
   "id": "24b3e32d",
   "metadata": {},
   "outputs": [],
   "source": [
    "# Visualize model in a decision tree.\n",
    "tree.export_graphviz(model, out_file='penguin-species-identifier.dot', \n",
    "                     feature_names = ['Culmen Length (mm)', 'Culmen Depth (mm)', 'Sex'],\n",
    "                     class_names = sorted(y.unique()), # Get all possible outputs.\n",
    "                     label = 'all',\n",
    "                     rounded = True, # Design stuff...\n",
    "                     filled = True)"
   ]
  }
 ],
 "metadata": {
  "kernelspec": {
   "display_name": "Python 3",
   "language": "python",
   "name": "python3"
  },
  "language_info": {
   "codemirror_mode": {
    "name": "ipython",
    "version": 3
   },
   "file_extension": ".py",
   "mimetype": "text/x-python",
   "name": "python",
   "nbconvert_exporter": "python",
   "pygments_lexer": "ipython3",
   "version": "3.8.8"
  }
 },
 "nbformat": 4,
 "nbformat_minor": 5
}
